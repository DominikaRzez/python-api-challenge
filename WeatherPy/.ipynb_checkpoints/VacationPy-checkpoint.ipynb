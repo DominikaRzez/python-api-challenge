{
 "cells": [
  {
   "cell_type": "code",
   "execution_count": 2,
   "id": "3dc42565",
   "metadata": {},
   "outputs": [],
   "source": [
    " # Dependencies and Setup\n",
    "import matplotlib.pyplot as plt\n",
    "import pandas as pd\n",
    "import numpy as np\n",
    "import requests\n",
    "import gmaps\n",
    "import os\n",
    "\n",
    "# Import API key\n",
    "from config import g_key"
   ]
  },
  {
   "cell_type": "code",
   "execution_count": 8,
   "id": "2e2588c1",
   "metadata": {},
   "outputs": [
    {
     "data": {
      "text/html": [
       "<div>\n",
       "<style scoped>\n",
       "    .dataframe tbody tr th:only-of-type {\n",
       "        vertical-align: middle;\n",
       "    }\n",
       "\n",
       "    .dataframe tbody tr th {\n",
       "        vertical-align: top;\n",
       "    }\n",
       "\n",
       "    .dataframe thead th {\n",
       "        text-align: right;\n",
       "    }\n",
       "</style>\n",
       "<table border=\"1\" class=\"dataframe\">\n",
       "  <thead>\n",
       "    <tr style=\"text-align: right;\">\n",
       "      <th></th>\n",
       "      <th>City</th>\n",
       "      <th>Lat</th>\n",
       "      <th>Lng</th>\n",
       "      <th>Max temp</th>\n",
       "      <th>Humidity</th>\n",
       "      <th>Cloudiness</th>\n",
       "      <th>Wind Speed</th>\n",
       "      <th>Country</th>\n",
       "      <th>Date</th>\n",
       "    </tr>\n",
       "  </thead>\n",
       "  <tbody>\n",
       "    <tr>\n",
       "      <th>0</th>\n",
       "      <td>barrow</td>\n",
       "      <td>71.2906</td>\n",
       "      <td>-156.7887</td>\n",
       "      <td>261.16</td>\n",
       "      <td>79</td>\n",
       "      <td>90</td>\n",
       "      <td>6.17</td>\n",
       "      <td>US</td>\n",
       "      <td>1638641306</td>\n",
       "    </tr>\n",
       "    <tr>\n",
       "      <th>1</th>\n",
       "      <td>avarua</td>\n",
       "      <td>-21.2078</td>\n",
       "      <td>-159.7750</td>\n",
       "      <td>297.18</td>\n",
       "      <td>94</td>\n",
       "      <td>100</td>\n",
       "      <td>1.54</td>\n",
       "      <td>CK</td>\n",
       "      <td>1638641047</td>\n",
       "    </tr>\n",
       "    <tr>\n",
       "      <th>2</th>\n",
       "      <td>san patricio</td>\n",
       "      <td>28.0170</td>\n",
       "      <td>-97.5169</td>\n",
       "      <td>301.20</td>\n",
       "      <td>61</td>\n",
       "      <td>34</td>\n",
       "      <td>4.99</td>\n",
       "      <td>US</td>\n",
       "      <td>1638641306</td>\n",
       "    </tr>\n",
       "    <tr>\n",
       "      <th>3</th>\n",
       "      <td>bethel</td>\n",
       "      <td>41.3712</td>\n",
       "      <td>-73.4140</td>\n",
       "      <td>281.89</td>\n",
       "      <td>57</td>\n",
       "      <td>75</td>\n",
       "      <td>0.89</td>\n",
       "      <td>US</td>\n",
       "      <td>1638641306</td>\n",
       "    </tr>\n",
       "    <tr>\n",
       "      <th>4</th>\n",
       "      <td>ushuaia</td>\n",
       "      <td>-54.8000</td>\n",
       "      <td>-68.3000</td>\n",
       "      <td>289.96</td>\n",
       "      <td>29</td>\n",
       "      <td>75</td>\n",
       "      <td>7.72</td>\n",
       "      <td>AR</td>\n",
       "      <td>1638641307</td>\n",
       "    </tr>\n",
       "  </tbody>\n",
       "</table>\n",
       "</div>"
      ],
      "text/plain": [
       "           City      Lat       Lng  Max temp  Humidity  Cloudiness  \\\n",
       "0        barrow  71.2906 -156.7887    261.16        79          90   \n",
       "1        avarua -21.2078 -159.7750    297.18        94         100   \n",
       "2  san patricio  28.0170  -97.5169    301.20        61          34   \n",
       "3        bethel  41.3712  -73.4140    281.89        57          75   \n",
       "4       ushuaia -54.8000  -68.3000    289.96        29          75   \n",
       "\n",
       "   Wind Speed Country        Date  \n",
       "0        6.17      US  1638641306  \n",
       "1        1.54      CK  1638641047  \n",
       "2        4.99      US  1638641306  \n",
       "3        0.89      US  1638641306  \n",
       "4        7.72      AR  1638641307  "
      ]
     },
     "execution_count": 8,
     "metadata": {},
     "output_type": "execute_result"
    }
   ],
   "source": [
    "#Loading the csv exported in Part I to a DataFrame\n",
    "cities_df=pd.read_csv(\"../output_data/Cities.csv\")\n",
    "cities_df=cities_df.drop(columns=[\"Unnamed: 0\"])\n",
    "cities_df.head()"
   ]
  },
  {
   "cell_type": "markdown",
   "id": "fd91c7af",
   "metadata": {},
   "source": [
    "<h2> Humidity Heatmap</h2>"
   ]
  },
  {
   "cell_type": "code",
   "execution_count": 9,
   "id": "7aa80dbf",
   "metadata": {},
   "outputs": [],
   "source": [
    "#Configure gmaps.\n",
    "#Use the Lat and Lng as locations and Humidity as the weight.\n",
    "#Add Heatmap layer to map."
   ]
  }
 ],
 "metadata": {
  "kernelspec": {
   "display_name": "Python 3",
   "language": "python",
   "name": "python3"
  },
  "language_info": {
   "codemirror_mode": {
    "name": "ipython",
    "version": 3
   },
   "file_extension": ".py",
   "mimetype": "text/x-python",
   "name": "python",
   "nbconvert_exporter": "python",
   "pygments_lexer": "ipython3",
   "version": "3.8.8"
  }
 },
 "nbformat": 4,
 "nbformat_minor": 5
}
