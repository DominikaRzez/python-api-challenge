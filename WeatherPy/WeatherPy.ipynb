{
 "cells": [
  {
   "cell_type": "code",
   "execution_count": null,
   "id": "05b63a82",
   "metadata": {},
   "outputs": [],
   "source": [
    "# Dependencies and Setup\n",
    "import matplotlib.pyplot as plt\n",
    "import pandas as pd\n",
    "import numpy as np\n",
    "import requests\n",
    "import time\n",
    "from scipy.stats import linregress\n",
    "\n",
    "# Import API key\n",
    "from config import weather_api_key\n",
    "\n",
    "# Incorporated citipy to determine city based on latitude and longitude\n",
    "from citipy import citipy\n",
    "\n",
    "# Output File (CSV)\n",
    "output_data_file = \"../output_data/cities.csv\"\n",
    "\n",
    "# Range of latitudes and longitudes\n",
    "lat_range = (-90, 90)\n",
    "lng_range = (-180, 180)"
   ]
  },
  {
   "cell_type": "code",
   "execution_count": null,
   "id": "5404b296",
   "metadata": {},
   "outputs": [],
   "source": [
    " # List for holding lat_lngs and cities\n",
    "lat_lngs = []\n",
    "cities = []\n",
    "\n",
    "# Create a set of random lat and lng combinations\n",
    "lats = np.random.uniform(lat_range[0], lat_range[1], size=1500)\n",
    "lngs = np.random.uniform(lng_range[0], lng_range[1], size=1500)\n",
    "lat_lngs = zip(lats, lngs)\n",
    "\n",
    "# Identify nearest city for each lat, lng combination\n",
    "for lat_lng in lat_lngs:\n",
    "    city = citipy.nearest_city(lat_lng[0], lat_lng[1]).city_name\n",
    "    \n",
    "    # If the city is unique, then add it to a our cities list\n",
    "    if city not in cities:\n",
    "        cities.append(city)\n",
    "\n",
    "# Print the city count to confirm sufficient count\n",
    "len(cities)"
   ]
  },
  {
   "cell_type": "code",
   "execution_count": null,
   "id": "72a9dbf8",
   "metadata": {},
   "outputs": [],
   "source": [
    "#Performing API call to retrieve data\n",
    "#printing number and name of the city while being processed\n",
    "url=\"https://api.openweathermap.org/data/2.5/weather?\"\n",
    "lat=[]\n",
    "lng=[]\n",
    "temp=[]\n",
    "humidity=[]\n",
    "clouds=[]\n",
    "wind=[]\n",
    "country=[]\n",
    "date=[]\n",
    "for city in cities:\n",
    "    try:\n",
    "        query_url=f\"{url}q={city}&units=imperial&appid={weather_api_key}\"\n",
    "        response = requests.get(query_url).json()\n",
    "        lat.append(response['coord']['lat'])\n",
    "        lng.append(response['coord']['lon'])\n",
    "        temp.append(response['main']['temp_max'])\n",
    "        humidity.append(response['main']['humidity'])\n",
    "        clouds.append(response['clouds']['all'])\n",
    "        wind.append(response['wind']['speed'])\n",
    "        country.append(response['sys']['country'])\n",
    "        date.append(response['dt'])\n",
    "        print(f\"Processing city number {cities.index(city)+1}, name: {city}\")\n",
    "    except:\n",
    "        lat.append(pd.NaT)\n",
    "        lng.append(pd.NaT)\n",
    "        temp.append(pd.NaT)\n",
    "        humidity.append(pd.NaT)\n",
    "        clouds.append(pd.NaT)\n",
    "        wind.append(pd.NaT)\n",
    "        country.append(pd.NaT)\n",
    "        date.append(pd.NaT)\n",
    "        print(\"City not found. Processing further...\")\n",
    "        \n",
    "print(\"Data retrieval completed\")"
   ]
  },
  {
   "cell_type": "code",
   "execution_count": null,
   "id": "ab54aa82",
   "metadata": {},
   "outputs": [],
   "source": [
    "#building data frame to display city data\n",
    "cities_data=pd.DataFrame({\"City\": cities,\n",
    "                         \"Lat\": lat,\n",
    "                         \"Lng\": lng,\n",
    "                         \"Max temp\": temp,\n",
    "                         \"Humidity\": humidity,\n",
    "                         \"Cloudiness\": clouds,\n",
    "                         \"Wind Speed\": wind,\n",
    "                         \"Country\": country,\n",
    "                         \"Date\":date})\n",
    "cities_data"
   ]
  },
  {
   "cell_type": "code",
   "execution_count": null,
   "id": "9ee16018",
   "metadata": {},
   "outputs": [],
   "source": [
    "#removing all NA rows\n",
    "cleaned=cities_data.dropna(axis=0, how=\"any\")\n",
    "cleaned.head()"
   ]
  },
  {
   "cell_type": "code",
   "execution_count": null,
   "id": "89b72b0a",
   "metadata": {},
   "outputs": [],
   "source": [
    "#saving raw data as csv\n",
    "cleaned.to_csv(\"../output_data/Cities.csv\")"
   ]
  },
  {
   "cell_type": "code",
   "execution_count": null,
   "id": "4d1099e5",
   "metadata": {},
   "outputs": [],
   "source": [
    "#displaying statistical summary for the numerical columns\n",
    "stats_summary=cleaned[[\"Lat\",\"Lng\",\"Max temp\",\"Humidity\",\"Cloudiness\",\"Wind Speed\"]].astype(float)\n",
    "stats_summary=stats_summary.describe()\n",
    "stats_summary"
   ]
  },
  {
   "cell_type": "code",
   "execution_count": null,
   "id": "5b24d2f3",
   "metadata": {},
   "outputs": [],
   "source": [
    "#checking if there are cities with humidity greater than 100%\n",
    "humidity_index=[]\n",
    "for humidity in cleaned[\"Humidity\"]:\n",
    "    if humidity>100:\n",
    "        humidity_index.append(index(humidity))\n",
    "humidity_index"
   ]
  },
  {
   "cell_type": "markdown",
   "id": "a97e1c48",
   "metadata": {},
   "source": [
    "<h1>Plotting the data</h1>"
   ]
  },
  {
   "cell_type": "markdown",
   "id": "d1edd982",
   "metadata": {},
   "source": [
    "<h2>Temperature (F) vs. Latitude Plot</h2>"
   ]
  },
  {
   "cell_type": "code",
   "execution_count": null,
   "id": "60e83b0c",
   "metadata": {},
   "outputs": [],
   "source": [
    "#creating scatter plot to showcase Temperature (F) vs. Latitude\n",
    "x_axis=cleaned[\"Lat\"]\n",
    "max_temp=cleaned[\"Max temp\"]\n",
    "plt.title(\"City Latitude vs Max Temperature (05/12/21)\")\n",
    "plt.xlabel(\"Latitude\")\n",
    "plt.ylabel(\"Max Temperature (F)\")\n",
    "plt.scatter(x_axis, max_temp, marker=\"o\",facecolors=\"red\",edgecolors=\"black\",alpha=0.75)\n",
    "plt.savefig(\"../output_data/Latitude_vs_temp.png\")\n",
    "plt.show"
   ]
  },
  {
   "cell_type": "markdown",
   "id": "ae3214d0",
   "metadata": {},
   "source": [
    "The plot is analysing the correlation between the latitude and the maximum temperature in the cities. The temperature is displayed in Farenheit. "
   ]
  },
  {
   "cell_type": "markdown",
   "id": "63cb7f13",
   "metadata": {},
   "source": [
    "------------------------------------------------------------------------------------"
   ]
  },
  {
   "cell_type": "markdown",
   "id": "7dbad99f",
   "metadata": {},
   "source": [
    "<h2>Humidity (%) vs. Latitude Plot</h2>"
   ]
  },
  {
   "cell_type": "code",
   "execution_count": null,
   "id": "efcad5a2",
   "metadata": {},
   "outputs": [],
   "source": [
    "#creating scatter plot to showcase Humidity (%) vs. Latitude\n",
    "x_axis=cleaned[\"Lat\"]\n",
    "humidity_pct=cleaned[\"Humidity\"]\n",
    "plt.title(\"City Latitude vs Humidity (05/12/21)\")\n",
    "plt.xlabel(\"Latitude\")\n",
    "plt.ylabel(\"Humidity (%)\")\n",
    "plt.scatter(x_axis, humidity_pct, marker=\"o\",facecolors=\"red\",edgecolors=\"black\",alpha=0.75)\n",
    "plt.savefig(\"../output_data/Latitude_vs_humidity.png\")\n",
    "plt.show"
   ]
  },
  {
   "cell_type": "markdown",
   "id": "97fd85e8",
   "metadata": {},
   "source": [
    "The plot is analysing the correlation between the latitude and the percentage of humidity in the cities. "
   ]
  },
  {
   "cell_type": "markdown",
   "id": "6f6223cd",
   "metadata": {},
   "source": [
    "---------------------------------------------------------------------------"
   ]
  },
  {
   "cell_type": "markdown",
   "id": "3a0985a3",
   "metadata": {},
   "source": [
    "<h2>Cloudiness (%) vs. Latitude Plot</h2>"
   ]
  },
  {
   "cell_type": "code",
   "execution_count": null,
   "id": "1b8cc3a4",
   "metadata": {},
   "outputs": [],
   "source": [
    "#creating scatter plot to showcase Cloudiness (%) vs. Latitude\n",
    "x_axis=cleaned[\"Lat\"]\n",
    "cloudiness_pct=cleaned[\"Cloudiness\"]\n",
    "plt.title(\"City Latitude vs Cloudiness (05/12/21)\")\n",
    "plt.xlabel(\"Latitude\")\n",
    "plt.ylabel(\"Cloudiness (%)\")\n",
    "plt.scatter(x_axis, cloudiness_pct, marker=\"o\",facecolors=\"red\",edgecolors=\"black\",alpha=0.75)\n",
    "plt.savefig(\"../output_data/Latitude_vs_cloudiness.png\")\n",
    "plt.show"
   ]
  },
  {
   "cell_type": "markdown",
   "id": "4bfe2f8d",
   "metadata": {},
   "source": [
    "The plot is analysing the correlation between the latitude and the percentage of cloudiness in the cities."
   ]
  },
  {
   "cell_type": "markdown",
   "id": "52b6fcf1",
   "metadata": {},
   "source": [
    "------------------------------------------------------------------------------------"
   ]
  },
  {
   "cell_type": "markdown",
   "id": "42ea6eb2",
   "metadata": {},
   "source": [
    "<h2>Wind Speed (mph) vs. Latitude Plot</h2>"
   ]
  },
  {
   "cell_type": "code",
   "execution_count": null,
   "id": "0cc5eb6d",
   "metadata": {},
   "outputs": [],
   "source": [
    "#creating scatter plot to showcase Wind Speed (mph) vs. Latitude\n",
    "x_axis=cleaned[\"Lat\"]\n",
    "wind_speed=cleaned[\"Wind Speed\"]\n",
    "plt.title(\"City Latitude vs Wind Speed (05/12/21)\")\n",
    "plt.xlabel(\"Latitude\")\n",
    "plt.ylabel(\"Wind Speed (mph)\")\n",
    "plt.scatter(x_axis, wind_speed, marker=\"o\",facecolors=\"red\",edgecolors=\"black\",alpha=0.75)\n",
    "plt.savefig(\"../output_data/Latitude_vs_wind_speed.png\")\n",
    "plt.show"
   ]
  },
  {
   "cell_type": "markdown",
   "id": "51851768",
   "metadata": {},
   "source": [
    "The plot is analysing the correlation between the latitude and the wind speed in the cities. The speed of the wind is displayed in miles per hour."
   ]
  },
  {
   "cell_type": "markdown",
   "id": "419b4596",
   "metadata": {},
   "source": [
    "--------------------------------------------------------------------"
   ]
  },
  {
   "cell_type": "markdown",
   "id": "8b7b5e93",
   "metadata": {},
   "source": [
    "<h1>Linear Regression</h1>"
   ]
  },
  {
   "cell_type": "code",
   "execution_count": null,
   "id": "0fc1eba5",
   "metadata": {},
   "outputs": [],
   "source": [
    "#spliting the data frame into northern and southern depending on the latitude\n",
    "northern=cleaned.loc[cleaned[\"Lat\"]>=0,:]\n",
    "southern=cleaned.loc[cleaned[\"Lat\"]<0,:]"
   ]
  },
  {
   "cell_type": "markdown",
   "id": "64002853",
   "metadata": {},
   "source": [
    "<h2>Temperature (F) vs. Latitude Plot</h2>"
   ]
  },
  {
   "cell_type": "markdown",
   "id": "3a877dd4",
   "metadata": {},
   "source": [
    "<h3>Northern Hemisphere</h3>"
   ]
  },
  {
   "cell_type": "code",
   "execution_count": null,
   "id": "0b9fbaa3",
   "metadata": {},
   "outputs": [],
   "source": [
    "#plotting\n",
    "x_axis=northern[\"Lat\"]\n",
    "max_temp=northern[\"Max temp\"]\n",
    "plt.title(\"Northern Hemisphere - Temperature (F) vs. Latitude (05/12/21)\")\n",
    "plt.xlabel(\"Latitude\")\n",
    "plt.ylabel(\"Max Temperature (F)\")\n",
    "# Performing a linear regression \n",
    "(slope, intercept,rvalue,pvalue,stderr) = linregress(x_axis.astype(float), max_temp.astype(float)) \n",
    "regress_values=x_axis*slope+intercept\n",
    "line_eq = \"y = \" + str(round(slope,2)) + \"x + \" + str(round(intercept,2))\n",
    "plt.scatter(x_axis, max_temp, marker=\"o\",facecolors=\"red\",edgecolors=\"black\",alpha=0.75)\n",
    "plt.plot(x_axis,regress_values,\"b-\")\n",
    "plt.annotate(line_eq,(0,-40),fontsize=15,color=\"blue\")\n",
    "print(f\"The r-squared is: {rvalue**2}\")\n",
    "plt.savefig(\"../output_data/northern_Latitude_vs_max_temp.png\")\n",
    "plt.show"
   ]
  },
  {
   "cell_type": "markdown",
   "id": "af742b55",
   "metadata": {},
   "source": [
    "<h3>Southern Hemisphere</h3>"
   ]
  },
  {
   "cell_type": "code",
   "execution_count": null,
   "id": "56ec33a5",
   "metadata": {},
   "outputs": [],
   "source": [
    "#plotting\n",
    "x_axis=southern[\"Lat\"]\n",
    "max_temp=southern[\"Max temp\"]\n",
    "plt.title(\"Southern Hemisphere - Temperature (F) vs. Latitude (05/12/21)\")\n",
    "plt.xlabel(\"Latitude\")\n",
    "plt.ylabel(\"Max Temperature (F)\")\n",
    "# Performing a linear regression \n",
    "(slope, intercept,rvalue,pvalue,stderr) = linregress(x_axis.astype(float), max_temp.astype(float)) \n",
    "regress_values=x_axis*slope+intercept\n",
    "line_eq = \"y = \" + str(round(slope,2)) + \"x + \" + str(round(intercept,2))\n",
    "plt.scatter(x_axis, max_temp, marker=\"o\",facecolors=\"red\",edgecolors=\"black\",alpha=0.75)\n",
    "plt.plot(x_axis,regress_values,\"b-\")\n",
    "plt.annotate(line_eq,(-30,45),fontsize=15,color=\"blue\")\n",
    "print(f\"The r-squared is: {rvalue**2}\")\n",
    "plt.savefig(\"../output_data/southern_Latitude_vs_max_temp.png\")\n",
    "plt.show"
   ]
  },
  {
   "cell_type": "markdown",
   "id": "eed2ff6c",
   "metadata": {},
   "source": [
    "The graphs above present the correlation betwen cities latitude and maxium temprature for Norther Hemisphere and Southern Hemisphere. The linear regression of the first plot displays a negative coefficient meaning that as the latitude increases the temprature drops. The opposite correlation is displayed on the second graph, where positive coefficient suggests that as the latitude grows the temprature also tends to increase. However, a lower value of r-squared for the Southern Hemisphere suggests a lower significance level of this data."
   ]
  },
  {
   "cell_type": "markdown",
   "id": "93ffab2e",
   "metadata": {},
   "source": [
    "<H2>Humidity (%) vs. Latitude</h2>"
   ]
  },
  {
   "cell_type": "markdown",
   "id": "fa6a03c2",
   "metadata": {},
   "source": [
    "<h3>Northern Hemisphere</h3>"
   ]
  },
  {
   "cell_type": "code",
   "execution_count": null,
   "id": "fcfd7e43",
   "metadata": {},
   "outputs": [],
   "source": [
    "#plotting\n",
    "x_axis=northern[\"Lat\"]\n",
    "humidity=northern[\"Humidity\"]\n",
    "plt.title(\"Northern Hemisphere - Humidity(%) vs. Latitude (05/12/21)\")\n",
    "plt.xlabel(\"Latitude\")\n",
    "plt.ylabel(\"Humidity (%)\")\n",
    "# Performing a linear regression \n",
    "(slope, intercept,rvalue,pvalue,stderr) = linregress(x_axis.astype(float), humidity.astype(float)) \n",
    "regress_values=x_axis*slope+intercept\n",
    "line_eq = \"y = \" + str(round(slope,2)) + \"x + \" + str(round(intercept,2))\n",
    "plt.scatter(x_axis, humidity, marker=\"o\",facecolors=\"red\",edgecolors=\"black\",alpha=0.75)\n",
    "plt.plot(x_axis,regress_values,\"b-\")\n",
    "plt.annotate(line_eq,(45,20),fontsize=15,color=\"blue\")\n",
    "print(f\"The r-squared is: {rvalue**2}\")\n",
    "plt.savefig(\"../output_data/northern_Latitude_vs_humidity.png\")\n",
    "plt.show"
   ]
  },
  {
   "cell_type": "markdown",
   "id": "369f7675",
   "metadata": {},
   "source": [
    "<h3> Southern Hemisphere</h3>"
   ]
  },
  {
   "cell_type": "code",
   "execution_count": null,
   "id": "8504213f",
   "metadata": {},
   "outputs": [],
   "source": [
    "#plotting\n",
    "x_axis=southern[\"Lat\"]\n",
    "humidity=southern[\"Humidity\"]\n",
    "plt.title(\"Southern Hemisphere - Humidity(%) vs. Latitude (05/12/21)\")\n",
    "plt.xlabel(\"Latitude\")\n",
    "plt.ylabel(\"Humidity (%)\")\n",
    "# Performing a linear regression \n",
    "(slope, intercept,rvalue,pvalue,stderr) = linregress(x_axis.astype(float), humidity.astype(float)) \n",
    "regress_values=x_axis*slope+intercept\n",
    "line_eq = \"y = \" + str(round(slope,2)) + \"x + \" + str(round(intercept,2))\n",
    "plt.scatter(x_axis, humidity, marker=\"o\",facecolors=\"red\",edgecolors=\"black\",alpha=0.75)\n",
    "plt.plot(x_axis,regress_values,\"b-\")\n",
    "plt.annotate(line_eq,(-23,0),fontsize=15,color=\"blue\")\n",
    "print(f\"The r-squared is: {rvalue**2}\")\n",
    "plt.savefig(\"../output_data/southern_Latitude_vs_humidity.png\")\n",
    "plt.show"
   ]
  },
  {
   "cell_type": "markdown",
   "id": "47670b38",
   "metadata": {},
   "source": [
    "The graphs above analyse the correlation between cities latitude and humidity percentage for the Northern Hemisphere and Southern Hemisphere. Both graphs present a positive correlation. However, r-squared values for both linear regressions are low, meaning lower significance."
   ]
  },
  {
   "cell_type": "markdown",
   "id": "bd58e7d7",
   "metadata": {},
   "source": [
    "<h2>Cloudiness (%) vs. Latitude</h2>"
   ]
  },
  {
   "cell_type": "markdown",
   "id": "b1347bd0",
   "metadata": {},
   "source": [
    "<h3> Northern Hemisphere</h3>"
   ]
  },
  {
   "cell_type": "code",
   "execution_count": null,
   "id": "79da4d10",
   "metadata": {},
   "outputs": [],
   "source": [
    "#plotting\n",
    "x_axis=northern[\"Lat\"]\n",
    "cloudiness=northern[\"Cloudiness\"]\n",
    "plt.title(\"Northern Hemisphere - Cloudiness(%) vs. Latitude (05/12/21)\")\n",
    "plt.xlabel(\"Latitude\")\n",
    "plt.ylabel(\"Cloudiness (%)\")\n",
    "# Performing a linear regression \n",
    "(slope, intercept,rvalue,pvalue,stderr) = linregress(x_axis.astype(float), cloudiness.astype(float)) \n",
    "regress_values=x_axis*slope+intercept\n",
    "line_eq = \"y = \" + str(round(slope,2)) + \"x + \" + str(round(intercept,2))\n",
    "plt.scatter(x_axis, cloudiness, marker=\"o\",facecolors=\"red\",edgecolors=\"black\",alpha=0.75)\n",
    "plt.plot(x_axis,regress_values,\"b-\")\n",
    "plt.annotate(line_eq,(45,20),fontsize=15,color=\"blue\")\n",
    "print(f\"The r-squared is: {rvalue**2}\")\n",
    "plt.savefig(\"../output_data/northern_Latitude_vs_cloudiness.png\")\n",
    "plt.show"
   ]
  },
  {
   "cell_type": "markdown",
   "id": "ce3cf1d0",
   "metadata": {},
   "source": [
    "<h3>Southern Hemisphere</h3>"
   ]
  },
  {
   "cell_type": "code",
   "execution_count": null,
   "id": "202e9232",
   "metadata": {},
   "outputs": [],
   "source": [
    "#plotting\n",
    "x_axis=southern[\"Lat\"]\n",
    "cloudiness=southern[\"Cloudiness\"]\n",
    "plt.title(\"Southern Hemisphere - Cloudiness(%) vs. Latitude (05/12/21)\")\n",
    "plt.xlabel(\"Latitude\")\n",
    "plt.ylabel(\"Cloudiness (%)\")\n",
    "# Performing a linear regression \n",
    "(slope, intercept,rvalue,pvalue,stderr) = linregress(x_axis.astype(float), cloudiness.astype(float)) \n",
    "regress_values=x_axis*slope+intercept\n",
    "line_eq = \"y = \" + str(round(slope,2)) + \"x + \" + str(round(intercept,2))\n",
    "plt.scatter(x_axis, cloudiness, marker=\"o\",facecolors=\"red\",edgecolors=\"black\",alpha=0.75)\n",
    "plt.plot(x_axis,regress_values,\"b-\")\n",
    "plt.annotate(line_eq,(-55,65),fontsize=15,color=\"blue\")\n",
    "print(f\"The r-squared is: {rvalue**2}\")\n",
    "plt.savefig(\"../output_data/southern_Latitude_vs_cloudiness.png\")\n",
    "plt.show"
   ]
  },
  {
   "cell_type": "markdown",
   "id": "edbf3ce6",
   "metadata": {},
   "source": [
    "The scatter plots above analyse the correlation between latitude and cloudiness percentage for both Northern and Southern Hemispheres. Both of the graphs identify a positive trend. However, similar to the previous plots, the r-squared values remain low, meaning the sample data does not provide enough evidence to apply the identified trend to the whole population. "
   ]
  },
  {
   "cell_type": "markdown",
   "id": "a7b129b8",
   "metadata": {},
   "source": [
    "<h2>Wind Speed (mph) vs. Latitude</h2>"
   ]
  },
  {
   "cell_type": "markdown",
   "id": "95ecdd27",
   "metadata": {},
   "source": [
    "<h3>Northern Hemisphere</h3>"
   ]
  },
  {
   "cell_type": "code",
   "execution_count": null,
   "id": "f5698d7b",
   "metadata": {},
   "outputs": [],
   "source": [
    "#plotting\n",
    "x_axis=northern[\"Lat\"]\n",
    "wind_speed=northern[\"Wind Speed\"]\n",
    "plt.title(\"Northern Hemisphere - Wind Speed(mph) vs. Latitude (05/12/21)\")\n",
    "plt.xlabel(\"Latitude\")\n",
    "plt.ylabel(\"Wind Speed (mph)\")\n",
    "# Performing a linear regression \n",
    "(slope, intercept,rvalue,pvalue,stderr) = linregress(x_axis.astype(float), wind_speed.astype(float)) \n",
    "regress_values=x_axis*slope+intercept\n",
    "line_eq = \"y = \" + str(round(slope,2)) + \"x + \" + str(round(intercept,2))\n",
    "plt.scatter(x_axis, wind_speed, marker=\"o\",facecolors=\"red\",edgecolors=\"black\",alpha=0.75)\n",
    "plt.plot(x_axis,regress_values,\"b-\")\n",
    "plt.annotate(line_eq,(0,30),fontsize=15,color=\"blue\")\n",
    "print(f\"The r-squared is: {rvalue**2}\")\n",
    "plt.savefig(\"../output_data/northern_Latitude_vs_wind_speed.png\")\n",
    "plt.show"
   ]
  },
  {
   "cell_type": "markdown",
   "id": "4d238bd2",
   "metadata": {},
   "source": [
    "<h3>Southern Hemisphere</h3>"
   ]
  },
  {
   "cell_type": "code",
   "execution_count": null,
   "id": "6cba993f",
   "metadata": {},
   "outputs": [],
   "source": [
    "#plotting\n",
    "x_axis=southern[\"Lat\"]\n",
    "wind_speed=southern[\"Wind Speed\"]\n",
    "plt.title(\"Southern Hemisphere - Wind Speed(mph) vs. Latitude (05/12/21)\")\n",
    "plt.xlabel(\"Latitude\")\n",
    "plt.ylabel(\"Wind Speed (mph)\")\n",
    "# Performing a linear regression \n",
    "(slope, intercept,rvalue,pvalue,stderr) = linregress(x_axis.astype(float), wind_speed.astype(float)) \n",
    "regress_values=x_axis*slope+intercept\n",
    "line_eq = \"y = \" + str(round(slope,2)) + \"x + \" + str(round(intercept,2))\n",
    "plt.scatter(x_axis, wind_speed, marker=\"o\",facecolors=\"red\",edgecolors=\"black\",alpha=0.75)\n",
    "plt.plot(x_axis,regress_values,\"b-\")\n",
    "plt.annotate(line_eq,(-25,25),fontsize=15,color=\"blue\")\n",
    "print(f\"The r-squared is: {rvalue**2}\")\n",
    "plt.savefig(\"../output_data/southern_Latitude_vs_wind_speed.png\")\n",
    "plt.show"
   ]
  },
  {
   "cell_type": "markdown",
   "id": "838587c0",
   "metadata": {},
   "source": [
    "The linear regression is modelling the correlation between the latitude and wind speed, displayed in miles per hour. The coefficient is positive for Northern Hemisphere and negative for Southern Hemisphere. The r-squared for both linear regressions are closed to 0, which indicates that the relatioships observed above may not exist in the larger population."
   ]
  }
 ],
 "metadata": {
  "kernelspec": {
   "display_name": "Python 3",
   "language": "python",
   "name": "python3"
  },
  "language_info": {
   "codemirror_mode": {
    "name": "ipython",
    "version": 3
   },
   "file_extension": ".py",
   "mimetype": "text/x-python",
   "name": "python",
   "nbconvert_exporter": "python",
   "pygments_lexer": "ipython3",
   "version": "3.8.8"
  }
 },
 "nbformat": 4,
 "nbformat_minor": 5
}
