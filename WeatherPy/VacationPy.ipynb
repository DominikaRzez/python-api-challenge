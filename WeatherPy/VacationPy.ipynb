{
 "cells": [
  {
   "cell_type": "code",
   "execution_count": null,
   "id": "3dc42565",
   "metadata": {},
   "outputs": [],
   "source": [
    " # Dependencies and Setup\n",
    "import matplotlib.pyplot as plt\n",
    "import pandas as pd\n",
    "import numpy as np\n",
    "import requests\n",
    "import gmaps\n",
    "import os\n",
    "import json\n",
    "\n",
    "# Import API key\n",
    "from config import g_key"
   ]
  },
  {
   "cell_type": "code",
   "execution_count": null,
   "id": "b9803dab",
   "metadata": {},
   "outputs": [],
   "source": [
    "#Loading the csv exported in Part I to a DataFrame\n",
    "cities_df=pd.read_csv(\"../output_data/Cities.csv\")\n",
    "cities_df=cities_df.drop(columns=[\"Unnamed: 0\"])\n",
    "cities_df.head()"
   ]
  },
  {
   "cell_type": "markdown",
   "id": "52551841",
   "metadata": {},
   "source": [
    "<h2> Humidity Heatmap</h2>"
   ]
  },
  {
   "cell_type": "code",
   "execution_count": null,
   "id": "adbea56c",
   "metadata": {},
   "outputs": [],
   "source": [
    "#Configure gmaps.\n",
    "gmaps.configure(api_key=g_key)\n",
    "#Use the Lat and Lng as locations and Humidity as the weight.\n",
    "#Add Heatmap layer to map.\n",
    "\n",
    "# Fill NaN values and convert to float\n",
    "cities_df.dropna(inplace=True)"
   ]
  },
  {
   "cell_type": "code",
   "execution_count": null,
   "id": "940f437d",
   "metadata": {},
   "outputs": [],
   "source": [
    "# Storing latitude and longitude in locations dataframe\n",
    "locations = cities_df[[\"Lat\",\"Lng\"]]\n",
    "locations.head()"
   ]
  },
  {
   "cell_type": "code",
   "execution_count": null,
   "id": "da1fce93",
   "metadata": {},
   "outputs": [],
   "source": [
    "humidity=cities_df[\"Humidity\"].astype(float)\n",
    "humidity.head()"
   ]
  },
  {
   "cell_type": "code",
   "execution_count": null,
   "id": "d824e44b",
   "metadata": {},
   "outputs": [],
   "source": [
    "# Plot Heatmap\n",
    "fig = gmaps.figure(map_type='HYBRID')\n",
    "heatmap_layer = gmaps.heatmap_layer(locations,weights=humidity)\n",
    "fig.add_layer(heatmap_layer)\n",
    "fig"
   ]
  },
  {
   "cell_type": "markdown",
   "id": "d9e13e43",
   "metadata": {},
   "source": [
    "<h2>new DataFrame fitting weather criteria</h2>"
   ]
  },
  {
   "cell_type": "code",
   "execution_count": null,
   "id": "602f8c85",
   "metadata": {},
   "outputs": [],
   "source": [
    "ideal_weather=cities_df.loc[cities_df[\"Max temp\"]<80]\n",
    "ideal_weather=ideal_weather.loc[ideal_weather[\"Max temp\"]>70]\n",
    "ideal_weather=ideal_weather.loc[ideal_weather[\"Wind Speed\"]<10]\n",
    "ideal_weather=ideal_weather.loc[ideal_weather[\"Cloudiness\"]==0]\n",
    "ideal_weather"
   ]
  },
  {
   "cell_type": "markdown",
   "id": "63d7833b",
   "metadata": {},
   "source": [
    "<h2>Hotel Map</h2>"
   ]
  },
  {
   "cell_type": "code",
   "execution_count": null,
   "id": "088b7951",
   "metadata": {},
   "outputs": [],
   "source": [
    "ideal_weather[\"Hotel name\"]=\"\"\n",
    "ideal_weather[\"Hotel lat\"]=\"\"\n",
    "ideal_weather[\"Hotel lon\"]=\"\""
   ]
  },
  {
   "cell_type": "code",
   "execution_count": null,
   "id": "8ee29457",
   "metadata": {},
   "outputs": [],
   "source": [
    " # params dictionary to update each iteration\n",
    "params = {\n",
    "    \"radius\": 50000,\n",
    "    \"types\": \"hotel\",\n",
    "    \"key\": g_key\n",
    "}\n",
    "\n",
    "hotel_name =[]\n",
    "for index, row in ideal_weather.iterrows():\n",
    "    # get lat, lng from df\n",
    "    lat = row[\"Lat\"]\n",
    "    lng = row[\"Lng\"]\n",
    "    \n",
    "    # changing location each iteration while leaving original params in place\n",
    "    params[\"location\"] = f\"{lat},{lng}\"\n",
    "\n",
    "    # Use the search term: \"International Airport\" and our lat/lng\n",
    "    base_url = \"https://maps.googleapis.com/maps/api/place/nearbysearch/json\"\n",
    "\n",
    "    # make request and print url\n",
    "    hotel = requests.get(base_url, params=params)\n",
    "    hotel=hotel.json()\n",
    "    ideal_weather.loc[index,\"Hotel name\"]=hotel[\"results\"][0][\"name\"]\n",
    "    ideal_weather.loc[index,\"Hotel lat\"]=hotel[\"results\"][0][\"geometry\"][\"location\"][\"lat\"]\n",
    "    ideal_weather.loc[index,\"Hotel lon\"]=hotel[\"results\"][0][\"geometry\"][\"location\"][\"lng\"]"
   ]
  },
  {
   "cell_type": "code",
   "execution_count": null,
   "id": "b524b76d",
   "metadata": {},
   "outputs": [],
   "source": [
    "ideal_weather"
   ]
  },
  {
   "cell_type": "code",
   "execution_count": null,
   "id": "4b7ff39c",
   "metadata": {},
   "outputs": [],
   "source": [
    "hotel_name_ls=ideal_weather[\"Hotel name\"].tolist()\n",
    "city_ls=ideal_weather[\"City\"].tolist()\n",
    "country_ls=ideal_weather[\"Country\"].tolist()"
   ]
  },
  {
   "cell_type": "code",
   "execution_count": null,
   "id": "caa932ea",
   "metadata": {},
   "outputs": [],
   "source": [
    "hotel_coord=ideal_weather[[\"Hotel lat\", \"Hotel lon\"]]\n",
    "\n",
    "hotel_layer = gmaps.symbol_layer(\n",
    "    hotel_coord, fill_color='rgba(0, 150, 0, 0.4)',\n",
    "    stroke_color='rgba(0, 0, 150, 0.4)', scale=5,\n",
    "    info_box_content=[f\"Hotel Name: {name}\" for name in hotel_name_ls])\n",
    "                      \n",
    "fig = gmaps.figure()\n",
    "fig.add_layer(hotel_layer)\n",
    "\n",
    "fig"
   ]
  },
  {
   "cell_type": "code",
   "execution_count": null,
   "id": "be14b1bf",
   "metadata": {},
   "outputs": [],
   "source": [
    "# Create a combined map\n",
    "fig = gmaps.figure()\n",
    "\n",
    "fig.add_layer(heatmap_layer)\n",
    "fig.add_layer(hotel_layer)\n",
    "\n",
    "fig"
   ]
  }
 ],
 "metadata": {
  "kernelspec": {
   "display_name": "Python 3",
   "language": "python",
   "name": "python3"
  },
  "language_info": {
   "codemirror_mode": {
    "name": "ipython",
    "version": 3
   },
   "file_extension": ".py",
   "mimetype": "text/x-python",
   "name": "python",
   "nbconvert_exporter": "python",
   "pygments_lexer": "ipython3",
   "version": "3.8.8"
  }
 },
 "nbformat": 4,
 "nbformat_minor": 5
}
